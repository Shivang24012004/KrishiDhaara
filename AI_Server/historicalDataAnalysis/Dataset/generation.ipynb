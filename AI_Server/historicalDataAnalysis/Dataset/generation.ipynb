{
 "cells": [
  {
   "cell_type": "code",
   "execution_count": 12,
   "metadata": {},
   "outputs": [],
   "source": [
    "import pandas as pd\n",
    "import numpy as np"
   ]
  },
  {
   "cell_type": "code",
   "execution_count": 13,
   "metadata": {},
   "outputs": [],
   "source": [
    "# 1. Create date range for 1 year at 4-hour intervals\n",
    "dates = pd.date_range(start=\"2024-03-01\", end=\"2025-3-21\", freq=\"4h\")\n",
    "df = pd.DataFrame({\"date\": dates})"
   ]
  },
  {
   "cell_type": "code",
   "execution_count": 14,
   "metadata": {},
   "outputs": [],
   "source": [
    "def generate_synthetic_data(row):\n",
    "    month = row[\"date\"].month\n",
    "    hour = row[\"date\"].hour\n",
    "    \n",
    "    # Season-specific base values\n",
    "    if 6 <= month <= 8:    # Summer (Jun-Aug)\n",
    "        base_temp = np.random.normal(35, 5)     # 35°C ±5\n",
    "        base_humidity = np.random.normal(40, 10)  # 40% ±10\n",
    "    elif month in [12, 1, 2]:  # Winter (Dec-Feb)\n",
    "        base_temp = np.random.normal(20, 3)     # 20°C ±3\n",
    "        base_humidity = np.random.normal(70, 5)  # 70% ±5\n",
    "    else:  # Spring/Autumn (Mar-May, Sep-Nov)\n",
    "        base_temp = np.random.normal(25, 4)     # 25°C ±4\n",
    "        base_humidity = np.random.normal(55, 8)  # 55% ±8\n",
    "\n",
    "    # Diurnal adjustments (season-dependent)\n",
    "    if 8 <= hour < 12:  # Midday (8 AM - 12 PM)\n",
    "        if 6 <= month <= 8:    # Summer: large temp rise, humidity drop\n",
    "            base_temp += 7\n",
    "            base_humidity -= 15\n",
    "        elif month in [12, 1, 2]:  # Winter: smaller changes\n",
    "            base_temp += 3\n",
    "            base_humidity -= 5\n",
    "        else:  # Spring/Autumn\n",
    "            base_temp += 5\n",
    "            base_humidity -= 10\n",
    "\n",
    "    # Clip humidity to 0-100% and add noise\n",
    "    temp = base_temp + np.random.normal(0, 2)\n",
    "    humidity = np.clip(base_humidity + np.random.normal(0, 3), 0, 100)\n",
    "    \n",
    "    return temp, humidity"
   ]
  },
  {
   "cell_type": "code",
   "execution_count": 15,
   "metadata": {},
   "outputs": [],
   "source": [
    "df[[\"temperature\", \"humidity\"]] = df.apply(generate_synthetic_data, axis=1, result_type=\"expand\")"
   ]
  },
  {
   "cell_type": "code",
   "execution_count": 16,
   "metadata": {},
   "outputs": [],
   "source": [
    "def calculate_verdict(row):\n",
    "    humidity = row[\"humidity\"]\n",
    "    temperature = row[\"temperature\"]\n",
    "    month = row[\"date\"].month\n",
    "    hour = row[\"date\"].hour\n",
    "\n",
    "    # 1. Dynamic threshold: 50% base, adjusted by temp (non-linear)\n",
    "    base_threshold = 50\n",
    "    if temperature > 25:  # Only reduce threshold above 25°C\n",
    "        temp_adjusted_threshold = base_threshold - (temperature - 25) * 0.8\n",
    "    else:\n",
    "        temp_adjusted_threshold = base_threshold\n",
    "\n",
    "    # 2. Seasonal adjustments (summer/winter only)\n",
    "    if 6 <= month <= 8:    # Summer: lower threshold\n",
    "        temp_adjusted_threshold -= 8\n",
    "    elif month in [12, 1, 2]:  # Winter: raise threshold\n",
    "        temp_adjusted_threshold += 10\n",
    "\n",
    "    # 3. Time-of-day suppression (10 PM - 4 AM: no irrigation)\n",
    "    if 22 <= hour or hour < 4:\n",
    "        temp_adjusted_threshold = 100  # Disable irrigation\n",
    "\n",
    "    # 4. Sigmoid probability with noise\n",
    "    humidity_deficit = temp_adjusted_threshold - humidity\n",
    "    prob_irrigate = 1 / (1 + np.exp(-0.15 * (humidity_deficit + np.random.normal(0, 2))))\n",
    "    \n",
    "    # 5. Final verdict (80% sigmoid, 20% randomness for edge cases)\n",
    "    if np.random.rand() < 0.2:  # Random override\n",
    "        return np.random.choice([0, 1], p=[0.7, 0.3])  # Bias towards no irrigation\n",
    "    \n",
    "    return 1 if prob_irrigate > 0.65 else 0"
   ]
  },
  {
   "cell_type": "code",
   "execution_count": 17,
   "metadata": {},
   "outputs": [],
   "source": [
    "df[\"verdict\"] = df.apply(calculate_verdict, axis=1)"
   ]
  },
  {
   "cell_type": "code",
   "execution_count": 18,
   "metadata": {},
   "outputs": [],
   "source": [
    "df.to_csv(\"Better_Dataset.csv\", index=False)"
   ]
  },
  {
   "cell_type": "code",
   "execution_count": null,
   "metadata": {},
   "outputs": [],
   "source": []
  }
 ],
 "metadata": {
  "kernelspec": {
   "display_name": "Python 3",
   "language": "python",
   "name": "python3"
  },
  "language_info": {
   "codemirror_mode": {
    "name": "ipython",
    "version": 3
   },
   "file_extension": ".py",
   "mimetype": "text/x-python",
   "name": "python",
   "nbconvert_exporter": "python",
   "pygments_lexer": "ipython3",
   "version": "3.10.16"
  }
 },
 "nbformat": 4,
 "nbformat_minor": 2
}
